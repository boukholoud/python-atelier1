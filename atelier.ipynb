{
  "nbformat": 4,
  "nbformat_minor": 0,
  "metadata": {
    "colab": {
      "provenance": []
    },
    "kernelspec": {
      "name": "python3",
      "display_name": "Python 3"
    },
    "language_info": {
      "name": "python"
    }
  },
  "cells": [
    {
      "cell_type": "markdown",
      "source": [],
      "metadata": {
        "id": "WptEoZkN6SbD"
      }
    },
    {
      "cell_type": "markdown",
      "source": [
        "MASTER : master data science pour l'économie et la finance\n",
        "\n",
        "kholoud boulaich\n",
        "\n",
        "Module : Langage de programmation\n",
        "\n",
        "Enacdré par : Dr. EL AACHAK Lotfi\n",
        "\n",
        "Atelier 1\n",
        "\n",
        "1-Ecrire une fonction qui renvoie la puissance d’un nombre"
      ],
      "metadata": {
        "id": "HsYCgTvj6ff8"
      }
    },
    {
      "cell_type": "code",
      "source": [
        "def puissance (x,n):\n",
        "  p=1\n",
        "  for i in range (n):\n",
        "    p=p*x\n",
        "  return p\n",
        "print (puissance(int(input()),int(input()))) "
      ],
      "metadata": {
        "id": "8vdqcbFz7eR_"
      },
      "execution_count": null,
      "outputs": []
    },
    {
      "cell_type": "markdown",
      "source": [
        "2-Ecrire une fonction python qui calcul la factorielle d’un nombre donné"
      ],
      "metadata": {
        "id": "6PczQD7v7j1W"
      }
    },
    {
      "cell_type": "code",
      "source": [
        "def factoriel (x):\n",
        "  if x==0 :\n",
        "    return 1\n",
        "  else :\n",
        "    f=x*factoriel(x-1)\n",
        "    return f\n",
        "print(factoriel(int(input())))"
      ],
      "metadata": {
        "id": "Qg4cVwv37wCV"
      },
      "execution_count": null,
      "outputs": []
    },
    {
      "cell_type": "markdown",
      "source": [
        "3-Ecrire une fonction en Python pour trouver la somme des séries 1! / 1 + 2! / 2 + 3! / 3 + 4! / 4 + 5! / 5 en utilisant la fonction."
      ],
      "metadata": {
        "id": "Aa2lL85U79cI"
      }
    },
    {
      "cell_type": "code",
      "source": [
        "def factoriel (x):\n",
        "  if x==0 :\n",
        "    return 1\n",
        "  else :\n",
        "    f=x*factoriel(x-1)\n",
        "    return f\n",
        "n=int(input(\"veuillez saisir la valeur de n \"))\n",
        "s=0\n",
        "for i in range (1,n+1):\n",
        "  s=s+factoriel (i)/i\n",
        "print (s)\n",
        "     "
      ],
      "metadata": {
        "id": "SdDB9wZj8ItA"
      },
      "execution_count": null,
      "outputs": []
    },
    {
      "cell_type": "markdown",
      "source": [
        "4-Ecrire une fonction en Python pour convertir le nombre décimal en nombre binaire."
      ],
      "metadata": {
        "id": "paPVeSag8U30"
      }
    },
    {
      "cell_type": "code",
      "source": [
        "def convertir(n):\n",
        "    if n > 1:\n",
        "        convertir(n // 2)\n",
        "    print(n % 2, end='')\n",
        "\n",
        "nb = int(input(\"Entrez un nombre decimal: \"))\n",
        "convertir(nb)\n",
        "     "
      ],
      "metadata": {
        "id": "X5qtSpYk8c_o"
      },
      "execution_count": null,
      "outputs": []
    },
    {
      "cell_type": "markdown",
      "source": [
        "5-Ecrire une fonction en Python pour compter les chiffres d'un nombre donné."
      ],
      "metadata": {
        "id": "fjOKx97d8h9W"
      }
    },
    {
      "cell_type": "code",
      "source": [
        "def count_digits(n):\n",
        "  return len(str(n))\n",
        "num_digits = count_digits(int(input(\"entrer le nombre :\")))\n",
        "print(num_digits)\n",
        "     "
      ],
      "metadata": {
        "id": "BApbxwyM8n96"
      },
      "execution_count": null,
      "outputs": []
    },
    {
      "cell_type": "markdown",
      "source": [
        "6-Ecrire une fonction en Python pour calculer la somme des nombres de 1 à n."
      ],
      "metadata": {
        "id": "MT3CdwHU8uCh"
      }
    },
    {
      "cell_type": "code",
      "source": [
        "def sum_numbers(n):\n",
        " return sum(range(1, n+1))\n",
        "x=sum_numbers(int(input()))\n",
        "print(x)\n"
      ],
      "metadata": {
        "id": "lfYh5rFN8-E2"
      },
      "execution_count": null,
      "outputs": []
    },
    {
      "cell_type": "markdown",
      "source": [
        "7-Ecrire une fonction Python pour trouver la fréquence d’un caractère dans une chaîne."
      ],
      "metadata": {
        "id": "n5SJfJZh9AC6"
      }
    },
    {
      "cell_type": "code",
      "source": [
        "def freq (string, char):\n",
        "    count = 0\n",
        "    for ch in string:\n",
        "        if ch == char:\n",
        "            count += 1\n",
        "    return count\n",
        "frequency = freq (\"adil laila london lile\", \"l\")\n",
        "print(frequency)\n",
        "     "
      ],
      "metadata": {
        "id": "EDveffQg9GiC"
      },
      "execution_count": null,
      "outputs": []
    },
    {
      "cell_type": "markdown",
      "source": [
        "8-Ecrire une fonction qui cherche un élément dans une matrice puis renvoi sa position « i,j»."
      ],
      "metadata": {
        "id": "38t3AJp89LV5"
      }
    },
    {
      "cell_type": "code",
      "source": [
        "def search_matrix(matrix, element):\n",
        "    for i, row in enumerate(matrix):\n",
        "        for j, value in enumerate(row):\n",
        "            if value == element:\n",
        "                return (i, j)\n",
        "    return None\n",
        "position = search_matrix([[1, 2, 3], [4, 5, 6], [7, 8, 9]], 5)\n",
        "print(position)\n",
        "     "
      ],
      "metadata": {
        "id": "-fX6pqkS9Rgs"
      },
      "execution_count": null,
      "outputs": []
    },
    {
      "cell_type": "code",
      "source": [],
      "metadata": {
        "id": "F87Rw8gE80Rm"
      },
      "execution_count": null,
      "outputs": []
    }
  ]
}